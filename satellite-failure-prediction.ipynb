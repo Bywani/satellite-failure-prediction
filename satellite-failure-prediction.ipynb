{
 "cells": [
  {
   "cell_type": "markdown",
   "id": "fb24fe15",
   "metadata": {},
   "source": [
    "<img src=\"Images/SpaceX.jpg\" style = \"width: 2800px; height: 800px; object-fit: cover; float: left; text-align: left;\" alt = \"image description\">"
   ]
  },
  {
   "cell_type": "markdown",
   "id": "a37c4af9",
   "metadata": {},
   "source": [
    "# SpaceX - Satellite Failure Prediction\n",
    "<hr style=\"border-top: 2px solid black;\">"
   ]
  },
  {
   "cell_type": "markdown",
   "id": "f7208dbf",
   "metadata": {},
   "source": [
    "**Introduction:** SpaceX, a leading innovator in the satellite industry, provides advanced satellite-based services and technology to customers globally. With the increasing demand for satellite-based internet and communications, the company is dedicated to ensuring the reliability and longevity of their satellite fleet while minimizing operational costs. One of their most notable ventures is the Starlink program, which aims to provide high-speed internet access to remote and underserved areas around the world through a network of thousands of satellites in low Earth orbit. Starlink's goal is to offer satellite-based internet access to individuals, businesses, and organizations, who would otherwise be unable to access high-speed internet, thus closing the digital divide and connecting the world.\n",
    "\n",
    "**Business Problem:** SpaceX, through its Starlink program, is facing a significant challenge in maintaining the integrity of their satellite fleet. The high costs associated with replacing failed satellites pose a significant financial burden to the company, and can negatively impact the availability and quality of service for customers. To address this problem, the company aims to predict which satellites are at risk of failure, in order to implement preventative measures and avoid costly replacements. By using data and machine learning techniques, we can analyze telemetry data, weather data, and other relevant information to identify patterns and trends that indicate a satellite's likelihood of failure. This will enable the company to proactively address potential issues and ensure the continuity of service for customers, while reducing costs and maintaining the overall efficiency of the satellite fleet.\n",
    "\n",
    "**Project Overview:** This project aims to address the challenge of maintaining the integrity and reliability of SpaceX's satellite fleet through the implementation of advanced data analysis and machine learning techniques. As the lead Data Engineer and Data Scientist, my role is to design and implement a comprehensive data pipeline that ingests, processes, and analyzes various data sources such as telemetry, weather and satellite configuration data. By leveraging these insights, I will create predictive models that identify the likelihood of satellite failure based on various factors such as satellite age, orbital characteristics and environmental conditions. These predictions will enable SpaceX to adopt preventative measures and optimize their satellite fleet, resulting in increased reliability, improved efficiency and cost-effectiveness of their operations. Ultimately, this project aims to enhance the customer experience and contribute to the company's profitability.\n",
    "\n",
    "**Data Collection:** The satellite and telemetry data used in this project was obtained from Kaggle (https://www.kaggle.com/), a platform that hosts a wide range of datasets. The weather data was sourced from the National Oceanic and Atmospheric Administration (NOAA) (https://www.noaa.gov/). The data was collected over a period of several years to ensure a large and diverse dataset for training the predictive models. It is worth noting that this data will be used solely for the purpose of personal projects aimed at increasing my machine learning technical skills and for no other purpose."
   ]
  },
  {
   "cell_type": "markdown",
   "id": "acad1bde",
   "metadata": {},
   "source": [
    "## Data Inspection"
   ]
  },
  {
   "cell_type": "code",
   "execution_count": null,
   "id": "08b6706b",
   "metadata": {},
   "outputs": [],
   "source": [
    "!ls Data"
   ]
  },
  {
   "cell_type": "code",
   "execution_count": null,
   "id": "0c624bb7",
   "metadata": {},
   "outputs": [],
   "source": [
    "import numpy as np\n",
    "import matplotlib.pyplot as plt\n",
    "import seaborn as sns\n",
    "import pandas as pd\n",
    "\n",
    "import plotly.express as px\n",
    "import bokeh\n",
    "import networkx as nx\n",
    "import folium\n",
    "\n",
    "from bokeh.plotting import figure, show\n",
    "from bokeh.models import ColumnDataSource, ColorBar\n",
    "from bokeh.palettes import Spectral6\n",
    "from bokeh.transform import linear_cmap"
   ]
  },
  {
   "cell_type": "code",
   "execution_count": null,
   "id": "7f55accf",
   "metadata": {},
   "outputs": [],
   "source": [
    "df1 = pd.read_csv('Data/SpaceX Satellite Dataset.csv', index_col = 'Satellite ID(Fake)', \n",
    "                  usecols = lambda column: column not in [\"Unnamed: 0\"])\n",
    "df2 = pd.read_csv('Data/weather.csv')\n",
    "df3 = pd.read_csv('Data/iot_telemetry_data.csv')"
   ]
  },
  {
   "cell_type": "code",
   "execution_count": null,
   "id": "4f8aac6f",
   "metadata": {},
   "outputs": [],
   "source": [
    "# Reading the SpaceX Satellite dataset\n",
    "df1.head()"
   ]
  },
  {
   "cell_type": "code",
   "execution_count": null,
   "id": "08dfdb1a",
   "metadata": {},
   "outputs": [],
   "source": [
    "df1.info()"
   ]
  },
  {
   "cell_type": "code",
   "execution_count": null,
   "id": "ef774432",
   "metadata": {},
   "outputs": [],
   "source": [
    "df1.shape"
   ]
  },
  {
   "cell_type": "code",
   "execution_count": null,
   "id": "7a49fea5",
   "metadata": {},
   "outputs": [],
   "source": [
    "df1.isna().sum()"
   ]
  },
  {
   "cell_type": "code",
   "execution_count": null,
   "id": "312ede55",
   "metadata": {},
   "outputs": [],
   "source": [
    "# It seems like we have 3 types of data. (Int64, Object, and Float64)\n",
    "df1.dtypes"
   ]
  },
  {
   "cell_type": "code",
   "execution_count": null,
   "id": "3f5787ff",
   "metadata": {},
   "outputs": [],
   "source": [
    "df1.duplicated().sum()"
   ]
  },
  {
   "cell_type": "code",
   "execution_count": null,
   "id": "c8ee5c24",
   "metadata": {},
   "outputs": [],
   "source": [
    "# Almost all of the data in our df1 are unique and note repeated... Except Expected Lifetime.\n",
    "df1.apply(pd.value_counts).sum()"
   ]
  },
  {
   "cell_type": "code",
   "execution_count": null,
   "id": "7610b96b",
   "metadata": {},
   "outputs": [],
   "source": [
    "df1.describe()"
   ]
  },
  {
   "cell_type": "code",
   "execution_count": null,
   "id": "d296c366",
   "metadata": {},
   "outputs": [],
   "source": [
    "plt.figure(figsize=(20,10))\n",
    "my_cmap = sns.color_palette(\"mako\")\n",
    "sns.countplot(x = \"Age\", data = df1, color = 'blue',  palette = my_cmap)\n",
    "plt.xlabel(\"Age (days)\", fontsize = 25)\n",
    "plt.ylabel(\"Count\", fontsize = 25)\n",
    "plt.title(\"Satellites Age Distribution\", fontsize = 30)\n",
    "plt.xticks(fontsize = 16)\n",
    "plt.yticks(fontsize = 16)\n",
    "plt.show()"
   ]
  },
  {
   "cell_type": "markdown",
   "id": "694686b6",
   "metadata": {},
   "source": [
    "**NOTE:** The age of the satellites in the dataset is presented in days, with the oldest satellite having an age of 1336 days and the youngest having an age of 786 days. This indicates that the oldest satellite was launched 1336 days ago and the youngest was launched 786 days ago, relative to the current date."
   ]
  },
  {
   "cell_type": "code",
   "execution_count": null,
   "id": "f0e8421a",
   "metadata": {},
   "outputs": [],
   "source": [
    "# Inspecting weather dataset.\n",
    "df2.head()"
   ]
  },
  {
   "cell_type": "code",
   "execution_count": null,
   "id": "c9719458",
   "metadata": {},
   "outputs": [],
   "source": [
    "df2.shape"
   ]
  },
  {
   "cell_type": "code",
   "execution_count": null,
   "id": "57ab85d2",
   "metadata": {},
   "outputs": [],
   "source": [
    "# 3 types of data as well \n",
    "df2.info()"
   ]
  },
  {
   "cell_type": "code",
   "execution_count": null,
   "id": "c3bc24d7",
   "metadata": {},
   "outputs": [],
   "source": [
    "# We have a few columsn that has less than 20 missing data and a few has more 300 missing values\n",
    "df2.isna().sum()"
   ]
  },
  {
   "cell_type": "code",
   "execution_count": null,
   "id": "7c69a0d3",
   "metadata": {},
   "outputs": [],
   "source": [
    "df2.duplicated().sum()"
   ]
  },
  {
   "cell_type": "code",
   "execution_count": null,
   "id": "10c072e0",
   "metadata": {},
   "outputs": [],
   "source": [
    "df2.describe()"
   ]
  },
  {
   "cell_type": "code",
   "execution_count": null,
   "id": "1cf479a0",
   "metadata": {},
   "outputs": [],
   "source": [
    "# Almost all of the data in our df2 are unique and note repeated... Except a few that has missing values.\n",
    "df2.apply(pd.value_counts).sum()"
   ]
  },
  {
   "cell_type": "code",
   "execution_count": null,
   "id": "3d51eefb",
   "metadata": {},
   "outputs": [],
   "source": [
    "# coloring the circles according to a continuous variable. Will use WSF2 as our variable.\n",
    "mapper = linear_cmap(field_name = 'WSF2', palette = Spectral6 ,\n",
    "                     low=min(df2['WSF2']) ,high = max(df2['WSF2']))"
   ]
  },
  {
   "cell_type": "code",
   "execution_count": null,
   "id": "8bc271c1",
   "metadata": {},
   "outputs": [],
   "source": [
    "# Create a scatterplot that shows the relationship between windspeed and wind direction.\n",
    "\n",
    "p = figure(width = 900, height = 600)\n",
    "\n",
    "# Customize axis labels\n",
    "p.xaxis.axis_label = 'Wind Speed (mph)'\n",
    "p.yaxis.axis_label = 'Wind Direction (degrees)'\n",
    "p.xaxis.major_label_text_font_size = '14pt'\n",
    "p.yaxis.major_label_text_font_size = '14pt'\n",
    "\n",
    "# Adding the scatter plot\n",
    "p.scatter(x = 'WSF2', y = 'WDF2', source = df2, fill_alpha = 0.8, line_color = mapper, color = mapper, size = 10)\n",
    "\n",
    "# Adding the title\n",
    "p.title.text = 'Wind Speed Vs Wind Direction'\n",
    "p.title.text_font_size = '20pt'\n",
    "p.title.align = 'center'\n",
    "\n",
    "# Adding X and Y axis\n",
    "p.xaxis.major_label_text_font_size = '10pt'\n",
    "p.yaxis.major_label_text_font_size = '10pt'\n",
    "\n",
    "# Adding the legend\n",
    "color_bar = ColorBar(color_mapper = mapper['transform'], width = 2, location = (0,0), title = \"Wind Speed\")\n",
    "p.add_layout(color_bar, 'right')\n",
    "\n",
    "# Show the chart\n",
    "show(p)"
   ]
  },
  {
   "cell_type": "markdown",
   "id": "624f4d52",
   "metadata": {},
   "source": [
    "**NOTE:** The scatter plot illustrates the range of wind direction and wind speed values observed in the data, with wind direction values ranging from approximately 10 to 350 degrees and wind speed values ranging from approximately 3 to 48 mph. The high variability in wind direction and wind speed could potentially have an impact on the performance and integrity of the satellite fleet. The analysis of this data will aid in identifying potential operational issues that may lead to satellite failure and ultimately help in proactively addressing these issues to ensure the continuity of service for customers."
   ]
  },
  {
   "cell_type": "code",
   "execution_count": null,
   "id": "7dbc76bd",
   "metadata": {},
   "outputs": [],
   "source": [
    "# Inspecting Telemetry Dataset.\n",
    "df3.head()"
   ]
  },
  {
   "cell_type": "code",
   "execution_count": null,
   "id": "340bb96c",
   "metadata": {},
   "outputs": [],
   "source": [
    "# 405184 rows and 9 columns\n",
    "df3.info()"
   ]
  },
  {
   "cell_type": "code",
   "execution_count": null,
   "id": "b8f76bd0",
   "metadata": {},
   "outputs": [],
   "source": [
    "df3.shape"
   ]
  },
  {
   "cell_type": "code",
   "execution_count": null,
   "id": "ef610b88",
   "metadata": {},
   "outputs": [],
   "source": [
    "# No missing data so far\n",
    "df3.isna().sum()"
   ]
  },
  {
   "cell_type": "code",
   "execution_count": null,
   "id": "d6c9bf58",
   "metadata": {},
   "outputs": [],
   "source": [
    "df3.describe()"
   ]
  },
  {
   "cell_type": "code",
   "execution_count": null,
   "id": "3758f148",
   "metadata": {},
   "outputs": [],
   "source": [
    "# We have 13 duplicates\n",
    "df3.duplicated().sum()"
   ]
  },
  {
   "cell_type": "code",
   "execution_count": null,
   "id": "36020838",
   "metadata": {},
   "outputs": [],
   "source": [
    "df3.apply(pd.value_counts).sum()"
   ]
  },
  {
   "cell_type": "code",
   "execution_count": null,
   "id": "6b522ae9",
   "metadata": {},
   "outputs": [],
   "source": [
    "from bokeh.plotting import figure, show\n",
    "from bokeh.palettes import Category20\n",
    "\n",
    "p = figure(x_axis_label = 'Time (s)', y_axis_label = 'Value', width = 1000, height = 600)\n",
    "\n",
    "colors = Category20[4]\n",
    "\n",
    "p.line(df3['temp'], df3['temp'], color = colors[0], legend_label = 'Temperature')\n",
    "p.line(df3['temp'], df3['humidity'], color = colors[1], legend_label = 'Humidity')\n",
    "p.line(df3['temp'], df3['light'], color = colors[2], legend_label = 'Light')\n",
    "p.line(df3['temp'], df3['smoke'], color = colors[3], legend_label = 'Smoke')\n",
    "\n",
    "p.title.text = 'Telemetry Data'\n",
    "p.title.text_font_size = '20pt'\n",
    "p.title.align = 'center'\n",
    "\n",
    "p.xaxis.major_label_text_font_size = '10pt'\n",
    "p.yaxis.major_label_text_font_size = '10pt'\n",
    "\n",
    "p.legend.label_text_font_size = '14pt'\n",
    "p.legend.title = 'Sensors'\n",
    "p.legend.title_text_font_size = '14pt'\n",
    "\n",
    "show(p)"
   ]
  },
  {
   "cell_type": "code",
   "execution_count": null,
   "id": "81ded0b3",
   "metadata": {},
   "outputs": [],
   "source": []
  }
 ],
 "metadata": {
  "kernelspec": {
   "display_name": "Python 3.9 (Ben_TF)",
   "language": "python",
   "name": "tensorflow"
  },
  "language_info": {
   "codemirror_mode": {
    "name": "ipython",
    "version": 3
   },
   "file_extension": ".py",
   "mimetype": "text/x-python",
   "name": "python",
   "nbconvert_exporter": "python",
   "pygments_lexer": "ipython3",
   "version": "3.9.13"
  }
 },
 "nbformat": 4,
 "nbformat_minor": 5
}
